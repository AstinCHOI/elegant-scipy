{
 "cells": [
  {
   "cell_type": "markdown",
   "metadata": {},
   "source": [
    "# 5장 분할표와 희소행렬\n",
    "## (Contingency Tables Using Sparse Coordinate Matrices)"
   ]
  },
  {
   "cell_type": "code",
   "execution_count": 2,
   "metadata": {},
   "outputs": [],
   "source": [
    "def variation_of_information(x, y):\n",
    "    # 혼동행렬(contingency table)를 계산한다. \n",
    "    # 결합 확률 행렬(joint probability matrix)이라고도 한다.\n",
    "    n = x.size\n",
    "    Pxy = sparse.coo_matrix((np.full(n, 1/n), (x.ravel(), y.ravel())),\n",
    "                            dtype=float).tocsr()\n",
    "\n",
    "    # 1차원 배열로 변환하여, 주변 확률(marginal probabilities)을 계산한다.\n",
    "    px = np.ravel(Pxy.sum(axis=1))\n",
    "    py = np.ravel(Pxy.sum(axis=0))\n",
    "\n",
    "    # 정보 변형을 계산하는 데 희소행렬 선형 대수를 사용한다.\n",
    "    # 역 대각행렬(inverse diagonal matrices)을 계산한다.\n",
    "    Px_inv = sparse.diags(invert_nonzero(px))\n",
    "    Py_inv = sparse.diags(invert_nonzero(py))\n",
    "\n",
    "    # 엔트로피(entropy)를 계산한다.\n",
    "    hygx = px @ xlog1x(Px_inv @ Pxy).sum(axis=1)\n",
    "    hxgy = xlog1x(Pxy @ Py_inv).sum(axis=0) @ py\n",
    "\n",
    "    # 엔트로피의 합을 반환한다.\n",
    "    return float(hygx + hxgy)"
   ]
  },
  {
   "cell_type": "markdown",
   "metadata": {},
   "source": [
    "## 5.1 분할표"
   ]
  },
  {
   "cell_type": "code",
   "execution_count": 10,
   "metadata": {},
   "outputs": [],
   "source": [
    "import numpy as np\n",
    "\n",
    "pred = np.array([0, 1, 0, 0, 1, 1, 1, 0, 1, 1])\n",
    "gt   = np.array([0, 0, 0, 0, 0, 1, 1, 1, 1, 1])"
   ]
  },
  {
   "cell_type": "code",
   "execution_count": 12,
   "metadata": {},
   "outputs": [
    {
     "data": {
      "text/plain": [
       "array([[ 3.,  1.],\n",
       "       [ 2.,  4.]])"
      ]
     },
     "execution_count": 12,
     "metadata": {},
     "output_type": "execute_result"
    }
   ],
   "source": [
    "def confusion_matrix(pred, gt):\n",
    "    cont = np.zeros((2, 2))\n",
    "    for i in [0, 1]:\n",
    "        for j in [0, 1]:\n",
    "            cont[i, j] = np.sum((pred == i) & (gt == j))\n",
    "    return cont\n",
    "\n",
    "confusion_matrix(pred, gt)"
   ]
  },
  {
   "cell_type": "markdown",
   "metadata": {},
   "source": [
    "### 5.1.1 연습문제 : 혼동행렬의 계산 복잡성\n",
    "### 5.1.2 연습문제 : 혼동행렬을 계산하는 대체 알고리즘\n",
    "### 5.1.3 연습문제 : 다중 혼동행렬 계산하기"
   ]
  },
  {
   "cell_type": "markdown",
   "metadata": {},
   "source": [
    "## 5.2 scipy.sparse 데이터 형식"
   ]
  },
  {
   "cell_type": "code",
   "execution_count": 14,
   "metadata": {},
   "outputs": [
    {
     "data": {
      "text/plain": [
       "array([[  4.,   0.,   3.],\n",
       "       [  0.,  32.,   0.]])"
      ]
     },
     "execution_count": 14,
     "metadata": {},
     "output_type": "execute_result"
    }
   ],
   "source": [
    "s = np.array([[ 4,  0, 3],\n",
    "              [ 0, 32, 0]], dtype=float)\n",
    "\n",
    "from scipy import sparse\n",
    "\n",
    "data = np.array([4, 3, 32], dtype=float)\n",
    "row = np.array([0, 0, 1])\n",
    "col = np.array([0, 2, 1])\n",
    "\n",
    "s_coo = sparse.coo_matrix((data, (row, col)))\n",
    "s_coo.toarray()"
   ]
  },
  {
   "cell_type": "code",
   "execution_count": 15,
   "metadata": {},
   "outputs": [
    {
     "data": {
      "text/plain": [
       "array([[  4.,   0.,   3.],\n",
       "       [  0.,  32.,   0.]])"
      ]
     },
     "execution_count": 15,
     "metadata": {},
     "output_type": "execute_result"
    }
   ],
   "source": [
    "s_coo.A"
   ]
  },
  {
   "cell_type": "markdown",
   "metadata": {},
   "source": [
    "### 5.2.2 연습문제 : COO 형식 표현하기"
   ]
  },
  {
   "cell_type": "markdown",
   "metadata": {},
   "source": [
    "### 5.2.3 압축된 희소 행 형식"
   ]
  },
  {
   "cell_type": "code",
   "execution_count": null,
   "metadata": {},
   "outputs": [],
   "source": []
  },
  {
   "cell_type": "code",
   "execution_count": null,
   "metadata": {},
   "outputs": [],
   "source": []
  },
  {
   "cell_type": "code",
   "execution_count": null,
   "metadata": {},
   "outputs": [],
   "source": []
  },
  {
   "cell_type": "code",
   "execution_count": null,
   "metadata": {},
   "outputs": [],
   "source": []
  },
  {
   "cell_type": "code",
   "execution_count": null,
   "metadata": {},
   "outputs": [],
   "source": []
  },
  {
   "cell_type": "code",
   "execution_count": null,
   "metadata": {},
   "outputs": [],
   "source": []
  },
  {
   "cell_type": "code",
   "execution_count": null,
   "metadata": {},
   "outputs": [],
   "source": []
  },
  {
   "cell_type": "code",
   "execution_count": null,
   "metadata": {},
   "outputs": [],
   "source": []
  },
  {
   "cell_type": "code",
   "execution_count": null,
   "metadata": {},
   "outputs": [],
   "source": []
  },
  {
   "cell_type": "code",
   "execution_count": null,
   "metadata": {},
   "outputs": [],
   "source": []
  }
 ],
 "metadata": {
  "kernelspec": {
   "display_name": "Python 3",
   "language": "python",
   "name": "python3"
  },
  "language_info": {
   "codemirror_mode": {
    "name": "ipython",
    "version": 3
   },
   "file_extension": ".py",
   "mimetype": "text/x-python",
   "name": "python",
   "nbconvert_exporter": "python",
   "pygments_lexer": "ipython3",
   "version": "3.6.4"
  }
 },
 "nbformat": 4,
 "nbformat_minor": 2
}
